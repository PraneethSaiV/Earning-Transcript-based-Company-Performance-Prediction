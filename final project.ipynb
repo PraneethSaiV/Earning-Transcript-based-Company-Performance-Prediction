{
 "cells": [
  {
   "cell_type": "code",
   "execution_count": 41,
   "metadata": {},
   "outputs": [],
   "source": [
    "\n",
    "import urllib2\n",
    "from bs4 import BeautifulSoup\n",
    "import pandas as pd\n",
    "import re\n",
    "from bs4 import BeautifulSoup\n",
    "from google.cloud import language\n",
    "from google.cloud.language import enums\n",
    "from google.cloud.language import types\n",
    "\n",
    "from urllib import FancyURLopener  # This is library that helps us create the headless browser\n",
    "from random import choice #This library helps pick a random item from a list\n",
    "\n",
    "user_agents = [\n",
    "    'Mozilla/5.0 (Windows NT 6.1) AppleWebKit/537.36 (KHTML, like Gecko) Chrome/41.0.2228.0 Safari/537.36',\n",
    "    'Opera/9.80 (X11; Linux i686; Ubuntu/14.10) Presto/2.12.388 Version/12.16',\n",
    "    'Mozilla/5.0 (Windows; U; Windows NT 6.1; rv:2.2) Gecko/20110201',\n",
    "    'Mozilla/5.0 (Macintosh; Intel Mac OS X 10_9_3) AppleWebKit/537.75.14 (KHTML, like Gecko) Version/7.0.3 Safari/7046A194A',\n",
    "    'Mozilla/5.0 (Windows NT 10.0; Win64; x64) AppleWebKit/537.36 (KHTML, like Gecko) Chrome/42.0.2311.135 Safari/537.36 Edge/12.246'\n",
    "]"
   ]
  },
  {
   "cell_type": "code",
   "execution_count": 77,
   "metadata": {},
   "outputs": [
    {
     "name": "stdout",
     "output_type": "stream",
     "text": [
      "[<span class=\"Trsdu(0.3s) Fz(s) Mb(0px) D(b)\" data-reactid=\"7\"><!-- react-text: 8 -->2,639.44<!-- /react-text --></span>, <span class=\"Trsdu(0.3s) Fz(s) D(b) C($dataRed)\" data-reactid=\"9\"><!-- react-text: 10 -->-0.11%<!-- /react-text --></span>, <span class=\"Trsdu(0.3s) Fz(s) Mb(0px) D(b)\" data-reactid=\"14\"><!-- react-text: 15 -->24,290.05<!-- /react-text --></span>, <span class=\"Trsdu(0.3s) Fz(s) D(b) C($dataGreen)\" data-reactid=\"16\"><!-- react-text: 17 -->+<!-- /react-text --><!-- react-text: 18 -->0.24%<!-- /react-text --></span>, <span class=\"Trsdu(0.3s) Fz(s) Mb(0px) D(b)\" data-reactid=\"22\"><!-- react-text: 23 -->6,775.37<!-- /react-text --></span>, <span class=\"Trsdu(0.3s) Fz(s) D(b) C($dataRed)\" data-reactid=\"24\"><!-- react-text: 25 -->-1.05%<!-- /react-text --></span>, <span class=\"Trsdu(0.3s) Fz(s) Mb(0px) D(b)\" data-reactid=\"29\"><!-- react-text: 30 -->1,532.413696<!-- /react-text --></span>, <span class=\"Trsdu(0.3s) Fz(s) D(b) C($dataRed)\" data-reactid=\"31\"><!-- react-text: 32 -->-0.759447%<!-- /react-text --></span>, <span class=\"Trsdu(0.3s) Fz(s) Mb(0px) D(b)\" data-reactid=\"36\"><!-- react-text: 37 -->57.59<!-- /react-text --></span>, <span class=\"Trsdu(0.3s) Fz(s) D(b) C($dataRed)\" data-reactid=\"38\"><!-- react-text: 39 -->-1.32%<!-- /react-text --></span>, <span class=\"Trsdu(0.3s) Fz(s) Mb(0px) D(b)\" data-reactid=\"43\"><!-- react-text: 44 -->1,278.00<!-- /react-text --></span>, <span class=\"Trsdu(0.3s) Fz(s) D(b) C($dataRed)\" data-reactid=\"45\"><!-- react-text: 46 -->-0.34%<!-- /react-text --></span>, <span class=\"Trsdu(0.3s) Fz(s) Mb(0px) D(b)\" data-reactid=\"50\"><!-- react-text: 51 -->16.37<!-- /react-text --></span>, <span class=\"Trsdu(0.3s) Fz(s) D(b) C($dataRed)\" data-reactid=\"52\"><!-- react-text: 53 -->-0.11%<!-- /react-text --></span>, <span class=\"Trsdu(0.3s) Fz(s) Mb(0px) D(b)\" data-reactid=\"57\"><!-- react-text: 58 -->1.19<!-- /react-text --></span>, <span class=\"Trsdu(0.3s) Fz(s) D(b) C($dataRed)\" data-reactid=\"59\"><!-- react-text: 60 -->-0.21%<!-- /react-text --></span>, <span class=\"Trsdu(0.3s) Fz(s) Mb(0px) D(b)\" data-reactid=\"64\"><!-- react-text: 65 -->2.38<!-- /react-text --></span>, <span class=\"Trsdu(0.3s) Fz(s) D(b) C($dataGreen)\" data-reactid=\"66\"><!-- react-text: 67 -->+<!-- /react-text --><!-- react-text: 68 -->0.72%<!-- /react-text --></span>, <span class=\"Trsdu(0.3s) Fz(s) Mb(0px) D(b)\" data-reactid=\"72\"><!-- react-text: 73 -->11.68<!-- /react-text --></span>, <span class=\"Trsdu(0.3s) Fz(s) D(b) C($dataGreen)\" data-reactid=\"74\"><!-- react-text: 75 -->+<!-- /react-text --><!-- react-text: 76 -->2.19%<!-- /react-text --></span>, <span class=\"Trsdu(0.3s) Fz(s) Mb(0px) D(b)\" data-reactid=\"80\"><!-- react-text: 81 -->1.35<!-- /react-text --></span>, <span class=\"Trsdu(0.3s) Fz(s) D(b) C($dataRed)\" data-reactid=\"82\"><!-- react-text: 83 -->-0.00%<!-- /react-text --></span>, <span class=\"Trsdu(0.3s) Fz(s) Mb(0px) D(b)\" data-reactid=\"87\"><!-- react-text: 88 -->112.50<!-- /react-text --></span>, <span class=\"Trsdu(0.3s) Fz(s) D(b) C($dataGreen)\" data-reactid=\"89\"><!-- react-text: 90 -->+<!-- /react-text --><!-- react-text: 91 -->0.33%<!-- /react-text --></span>, <span class=\"Trsdu(0.3s) Fz(s) Mb(0px) D(b)\" data-reactid=\"95\"><!-- react-text: 96 -->11,526.54<!-- /react-text --></span>, <span class=\"Trsdu(0.3s) Fz(s) D(b) C($dataRed)\" data-reactid=\"97\"><!-- react-text: 98 -->-0.84%<!-- /react-text --></span>, <span class=\"Trsdu(0.3s) Fz(s) Mb(0px) D(b)\" data-reactid=\"102\"><!-- react-text: 103 -->7,338.97<!-- /react-text --></span>, <span class=\"Trsdu(0.3s) Fz(s) D(b) C($dataGreen)\" data-reactid=\"104\"><!-- react-text: 105 -->+<!-- /react-text --><!-- react-text: 106 -->0.53%<!-- /react-text --></span>, <span class=\"Trsdu(0.3s) Fz(s) Mb(0px) D(b)\" data-reactid=\"110\"><!-- react-text: 111 -->22,640.83<!-- /react-text --></span>, <span class=\"Trsdu(0.3s) Fz(s) D(b) C($dataRed)\" data-reactid=\"112\"><!-- react-text: 113 -->-0.29%<!-- /react-text --></span>, <span class=\"Trsdu(0.3s) Fz(s) Mb(0px) D(b)\" data-reactid=\"7\"><!-- react-text: 8 -->2,639.44<!-- /react-text --></span>, <span class=\"Trsdu(0.3s) Fz(s) D(b) C($dataRed)\" data-reactid=\"9\"><!-- react-text: 10 -->-0.11%<!-- /react-text --></span>, <span class=\"Trsdu(0.3s) Fz(s) Mb(0px) D(b)\" data-reactid=\"14\"><!-- react-text: 15 -->24,290.05<!-- /react-text --></span>, <span class=\"Trsdu(0.3s) Fz(s) D(b) C($dataGreen)\" data-reactid=\"16\"><!-- react-text: 17 -->+<!-- /react-text --><!-- react-text: 18 -->0.24%<!-- /react-text --></span>, <span class=\"Trsdu(0.3s) Fz(s) Mb(0px) D(b)\" data-reactid=\"22\"><!-- react-text: 23 -->6,775.37<!-- /react-text --></span>, <span class=\"Trsdu(0.3s) Fz(s) D(b) C($dataRed)\" data-reactid=\"24\"><!-- react-text: 25 -->-1.05%<!-- /react-text --></span>, <span class=\"Trsdu(0.3s) Fz(s) Mb(0px) D(b)\" data-reactid=\"29\"><!-- react-text: 30 -->1,532.413696<!-- /react-text --></span>, <span class=\"Trsdu(0.3s) Fz(s) D(b) C($dataRed)\" data-reactid=\"31\"><!-- react-text: 32 -->-0.759447%<!-- /react-text --></span>, <span class=\"Trsdu(0.3s) Fz(s) Mb(0px) D(b)\" data-reactid=\"36\"><!-- react-text: 37 -->57.59<!-- /react-text --></span>, <span class=\"Trsdu(0.3s) Fz(s) D(b) C($dataRed)\" data-reactid=\"38\"><!-- react-text: 39 -->-1.32%<!-- /react-text --></span>, <span class=\"Trsdu(0.3s) Fz(s) Mb(0px) D(b)\" data-reactid=\"43\"><!-- react-text: 44 -->1,278.00<!-- /react-text --></span>, <span class=\"Trsdu(0.3s) Fz(s) D(b) C($dataRed)\" data-reactid=\"45\"><!-- react-text: 46 -->-0.34%<!-- /react-text --></span>, <span class=\"Trsdu(0.3s) Fz(s) Mb(0px) D(b)\" data-reactid=\"50\"><!-- react-text: 51 -->16.37<!-- /react-text --></span>, <span class=\"Trsdu(0.3s) Fz(s) D(b) C($dataRed)\" data-reactid=\"52\"><!-- react-text: 53 -->-0.11%<!-- /react-text --></span>, <span class=\"Trsdu(0.3s) Fz(s) Mb(0px) D(b)\" data-reactid=\"57\"><!-- react-text: 58 -->1.19<!-- /react-text --></span>, <span class=\"Trsdu(0.3s) Fz(s) D(b) C($dataRed)\" data-reactid=\"59\"><!-- react-text: 60 -->-0.21%<!-- /react-text --></span>, <span class=\"Trsdu(0.3s) Fz(s) Mb(0px) D(b)\" data-reactid=\"64\"><!-- react-text: 65 -->2.38<!-- /react-text --></span>, <span class=\"Trsdu(0.3s) Fz(s) D(b) C($dataGreen)\" data-reactid=\"66\"><!-- react-text: 67 -->+<!-- /react-text --><!-- react-text: 68 -->0.72%<!-- /react-text --></span>, <span class=\"Trsdu(0.3s) Fz(s) Mb(0px) D(b)\" data-reactid=\"72\"><!-- react-text: 73 -->11.68<!-- /react-text --></span>, <span class=\"Trsdu(0.3s) Fz(s) D(b) C($dataGreen)\" data-reactid=\"74\"><!-- react-text: 75 -->+<!-- /react-text --><!-- react-text: 76 -->2.19%<!-- /react-text --></span>, <span class=\"Trsdu(0.3s) Fz(s) Mb(0px) D(b)\" data-reactid=\"80\"><!-- react-text: 81 -->1.35<!-- /react-text --></span>, <span class=\"Trsdu(0.3s) Fz(s) D(b) C($dataRed)\" data-reactid=\"82\"><!-- react-text: 83 -->-0.00%<!-- /react-text --></span>, <span class=\"Trsdu(0.3s) Fz(s) Mb(0px) D(b)\" data-reactid=\"87\"><!-- react-text: 88 -->112.50<!-- /react-text --></span>, <span class=\"Trsdu(0.3s) Fz(s) D(b) C($dataGreen)\" data-reactid=\"89\"><!-- react-text: 90 -->+<!-- /react-text --><!-- react-text: 91 -->0.33%<!-- /react-text --></span>, <span class=\"Trsdu(0.3s) Fz(s) Mb(0px) D(b)\" data-reactid=\"95\"><!-- react-text: 96 -->11,526.54<!-- /react-text --></span>, <span class=\"Trsdu(0.3s) Fz(s) D(b) C($dataRed)\" data-reactid=\"97\"><!-- react-text: 98 -->-0.84%<!-- /react-text --></span>, <span class=\"Trsdu(0.3s) Fz(s) Mb(0px) D(b)\" data-reactid=\"102\"><!-- react-text: 103 -->7,338.97<!-- /react-text --></span>, <span class=\"Trsdu(0.3s) Fz(s) D(b) C($dataGreen)\" data-reactid=\"104\"><!-- react-text: 105 -->+<!-- /react-text --><!-- react-text: 106 -->0.53%<!-- /react-text --></span>, <span class=\"Trsdu(0.3s) Fz(s) Mb(0px) D(b)\" data-reactid=\"110\"><!-- react-text: 111 -->22,640.83<!-- /react-text --></span>, <span class=\"Trsdu(0.3s) Fz(s) D(b) C($dataRed)\" data-reactid=\"112\"><!-- react-text: 113 -->-0.29%<!-- /react-text --></span>, <span class=\"Trsdu(0.3s) Fz(s) Mb(0px) D(b)\" data-reactid=\"7\"><!-- react-text: 8 -->2,639.44<!-- /react-text --></span>, <span class=\"Trsdu(0.3s) Fz(s) D(b) C($dataRed)\" data-reactid=\"9\"><!-- react-text: 10 -->-0.11%<!-- /react-text --></span>, <span class=\"Trsdu(0.3s) Fz(s) Mb(0px) D(b)\" data-reactid=\"14\"><!-- react-text: 15 -->24,290.05<!-- /react-text --></span>, <span class=\"Trsdu(0.3s) Fz(s) D(b) C($dataGreen)\" data-reactid=\"16\"><!-- react-text: 17 -->+<!-- /react-text --><!-- react-text: 18 -->0.24%<!-- /react-text --></span>, <span class=\"Trsdu(0.3s) Fz(s) Mb(0px) D(b)\" data-reactid=\"22\"><!-- react-text: 23 -->6,775.37<!-- /react-text --></span>, <span class=\"Trsdu(0.3s) Fz(s) D(b) C($dataRed)\" data-reactid=\"24\"><!-- react-text: 25 -->-1.05%<!-- /react-text --></span>, <span class=\"Trsdu(0.3s) Fz(s) Mb(0px) D(b)\" data-reactid=\"29\"><!-- react-text: 30 -->1,532.413696<!-- /react-text --></span>, <span class=\"Trsdu(0.3s) Fz(s) D(b) C($dataRed)\" data-reactid=\"31\"><!-- react-text: 32 -->-0.759447%<!-- /react-text --></span>, <span class=\"Trsdu(0.3s) Fz(s) Mb(0px) D(b)\" data-reactid=\"36\"><!-- react-text: 37 -->57.59<!-- /react-text --></span>, <span class=\"Trsdu(0.3s) Fz(s) D(b) C($dataRed)\" data-reactid=\"38\"><!-- react-text: 39 -->-1.32%<!-- /react-text --></span>, <span class=\"Trsdu(0.3s) Fz(s) Mb(0px) D(b)\" data-reactid=\"43\"><!-- react-text: 44 -->1,278.00<!-- /react-text --></span>, <span class=\"Trsdu(0.3s) Fz(s) D(b) C($dataRed)\" data-reactid=\"45\"><!-- react-text: 46 -->-0.34%<!-- /react-text --></span>, <span class=\"Trsdu(0.3s) Fz(s) Mb(0px) D(b)\" data-reactid=\"50\"><!-- react-text: 51 -->16.37<!-- /react-text --></span>, <span class=\"Trsdu(0.3s) Fz(s) D(b) C($dataRed)\" data-reactid=\"52\"><!-- react-text: 53 -->-0.11%<!-- /react-text --></span>, <span class=\"Trsdu(0.3s) Fz(s) Mb(0px) D(b)\" data-reactid=\"57\"><!-- react-text: 58 -->1.19<!-- /react-text --></span>, <span class=\"Trsdu(0.3s) Fz(s) D(b) C($dataRed)\" data-reactid=\"59\"><!-- react-text: 60 -->-0.21%<!-- /react-text --></span>, <span class=\"Trsdu(0.3s) Fz(s) Mb(0px) D(b)\" data-reactid=\"64\"><!-- react-text: 65 -->2.38<!-- /react-text --></span>, <span class=\"Trsdu(0.3s) Fz(s) D(b) C($dataGreen)\" data-reactid=\"66\"><!-- react-text: 67 -->+<!-- /react-text --><!-- react-text: 68 -->0.72%<!-- /react-text --></span>, <span class=\"Trsdu(0.3s) Fz(s) Mb(0px) D(b)\" data-reactid=\"72\"><!-- react-text: 73 -->11.68<!-- /react-text --></span>, <span class=\"Trsdu(0.3s) Fz(s) D(b) C($dataGreen)\" data-reactid=\"74\"><!-- react-text: 75 -->+<!-- /react-text --><!-- react-text: 76 -->2.19%<!-- /react-text --></span>, <span class=\"Trsdu(0.3s) Fz(s) Mb(0px) D(b)\" data-reactid=\"80\"><!-- react-text: 81 -->1.35<!-- /react-text --></span>, <span class=\"Trsdu(0.3s) Fz(s) D(b) C($dataRed)\" data-reactid=\"82\"><!-- react-text: 83 -->-0.00%<!-- /react-text --></span>, <span class=\"Trsdu(0.3s) Fz(s) Mb(0px) D(b)\" data-reactid=\"87\"><!-- react-text: 88 -->112.50<!-- /react-text --></span>, <span class=\"Trsdu(0.3s) Fz(s) D(b) C($dataGreen)\" data-reactid=\"89\"><!-- react-text: 90 -->+<!-- /react-text --><!-- react-text: 91 -->0.33%<!-- /react-text --></span>, <span class=\"Trsdu(0.3s) Fz(s) Mb(0px) D(b)\" data-reactid=\"95\"><!-- react-text: 96 -->11,526.54<!-- /react-text --></span>, <span class=\"Trsdu(0.3s) Fz(s) D(b) C($dataRed)\" data-reactid=\"97\"><!-- react-text: 98 -->-0.84%<!-- /react-text --></span>, <span class=\"Trsdu(0.3s) Fz(s) Mb(0px) D(b)\" data-reactid=\"102\"><!-- react-text: 103 -->7,338.97<!-- /react-text --></span>, <span class=\"Trsdu(0.3s) Fz(s) D(b) C($dataGreen)\" data-reactid=\"104\"><!-- react-text: 105 -->+<!-- /react-text --><!-- react-text: 106 -->0.53%<!-- /react-text --></span>, <span class=\"Trsdu(0.3s) Fz(s) Mb(0px) D(b)\" data-reactid=\"110\"><!-- react-text: 111 -->22,640.83<!-- /react-text --></span>, <span class=\"Trsdu(0.3s) Fz(s) D(b) C($dataRed)\" data-reactid=\"112\"><!-- react-text: 113 -->-0.29%<!-- /react-text --></span>]\n"
     ]
    }
   ],
   "source": [
    "tik = ['ABT', 'GOOG', 'ABBV']\n",
    "for x in tik:\n",
    "    price = stock(x)\n",
    "\n",
    "urls = []\n",
    "for x in tik:\n",
    "    link = 'https://finance.yahoo.com/quote/' + x + 'key-statistics?p=' + x\n",
    "    urls.append(link)\n",
    "    \n",
    "price_list = []\n",
    "html_list = []    \n",
    "for y in urls:\n",
    "    html = urllib2.urlopen(y).read()\n",
    "    html_list.append(html)\n",
    "    soup = BeautifulSoup(html,'lxml')\n",
    "    for price in soup.find_all('span', class_ = \"Trsdu(0.3s)\"):\n",
    "        price_list.append(price)\n",
    "\n",
    "print price_list"
   ]
  },
  {
   "cell_type": "code",
   "execution_count": null,
   "metadata": {},
   "outputs": [],
   "source": []
  },
  {
   "cell_type": "code",
   "execution_count": null,
   "metadata": {
    "collapsed": true
   },
   "outputs": [],
   "source": []
  }
 ],
 "metadata": {
  "kernelspec": {
   "display_name": "Python 2",
   "language": "python",
   "name": "python2"
  },
  "language_info": {
   "codemirror_mode": {
    "name": "ipython",
    "version": 2
   },
   "file_extension": ".py",
   "mimetype": "text/x-python",
   "name": "python",
   "nbconvert_exporter": "python",
   "pygments_lexer": "ipython2",
   "version": "2.7.14"
  }
 },
 "nbformat": 4,
 "nbformat_minor": 2
}
