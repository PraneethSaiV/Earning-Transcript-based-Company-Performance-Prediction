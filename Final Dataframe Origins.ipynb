{
 "cells": [
  {
   "cell_type": "code",
   "execution_count": 3,
   "metadata": {
    "collapsed": true
   },
   "outputs": [],
   "source": [
    "import pandas as pd\n",
    "import numpy as np"
   ]
  },
  {
   "cell_type": "code",
   "execution_count": 4,
   "metadata": {},
   "outputs": [
    {
     "name": "stdout",
     "output_type": "stream",
     "text": [
      " Volume in drive E has no label.\n",
      " Volume Serial Number is 69C0-B1A0\n",
      "\n",
      " Directory of E:\\Web Data Analytics\\Project\n",
      "\n",
      "07-Dec-17  01:05 AM    <DIR>          .\n",
      "07-Dec-17  01:05 AM    <DIR>          ..\n",
      "07-Dec-17  01:05 AM    <DIR>          .ipynb_checkpoints\n",
      "05-Dec-17  06:57 PM             2,956 .Rhistory\n",
      "06-Dec-17  12:37 PM             8,300 8.2_MGMT_590_Fall_2017_Google_Cloud_Natural_Language_API.ipynb\n",
      "04-Dec-17  07:32 PM            46,616 AMEX.csv\n",
      "05-Dec-17  06:49 PM             5,891 Company List.csv\n",
      "05-Dec-17  06:55 PM           131,304 company.csv\n",
      "06-Dec-17  12:15 PM            17,688 Company_list_final.csv\n",
      "05-Dec-17  07:31 PM            98,080 Dropped companies.csv\n",
      "06-Dec-17  02:05 PM         6,242,737 earning_calls_data_1.csv\n",
      "06-Dec-17  06:44 PM           149,332 Earning_Calls_Distributed.ipynb\n",
      "07-Dec-17  01:05 AM               484 Final Dataframe Origins.ipynb\n",
      "05-Dec-17  12:07 PM            14,946 final project.ipynb\n",
      "06-Dec-17  12:14 PM            17,688 John Analysis 2.csv\n",
      "06-Dec-17  12:13 PM         1,315,867 John Analysis 2.xlsx\n",
      "06-Dec-17  10:47 AM            18,593 John Analysis.csv\n",
      "06-Dec-17  10:44 AM           522,342 John Analysis.xlsx\n",
      "06-Dec-17  12:05 PM            19,879 Merge Stocklists.ipynb\n",
      "05-Dec-17  01:49 PM           539,023 mutual funds 13-F filings.csv\n",
      "05-Dec-17  10:31 PM           539,023 mutual funds 13-F.csv\n",
      "04-Dec-17  06:25 PM           568,549 Mutual_Funds_companies.csv\n",
      "04-Dec-17  07:31 PM           437,986 NASDAQ.csv\n",
      "04-Dec-17  07:32 PM           402,146 NYSE.csv\n",
      "12-Nov-17  07:01 PM            13,793 Project Ideas.docx\n",
      "05-Dec-17  06:41 PM             1,925 Project Ticker code.R\n",
      "06-Dec-17  12:53 PM            26,130 Sentiment Analysis.ipynb\n",
      "07-Dec-17  01:05 AM            12,933 sentiment_annual.csv\n",
      "06-Dec-17  01:24 AM         3,720,593 stock_closing_data.csv\n",
      "06-Dec-17  11:28 AM         2,333,859 stock_closing_data_john.csv\n",
      "06-Dec-17  11:25 AM            39,574 stock_price_crawler.ipynb\n",
      "06-Dec-17  12:05 PM         6,054,423 stock_price_data.csv\n",
      "05-Dec-17  10:36 PM            36,640 Ticker_Names.ipynb\n",
      "05-Dec-17  10:34 PM            17,932 Ticker_Symbols_list.csv\n",
      "05-Dec-17  12:09 PM            14,062 Untitled.ipynb\n",
      "06-Dec-17  05:00 PM            98,100 Untitled1.ipynb\n",
      "06-Dec-17  12:37 PM                72 Untitled2.ipynb\n",
      "              34 File(s)     23,469,466 bytes\n",
      "               3 Dir(s)  102,812,684,288 bytes free\n"
     ]
    }
   ],
   "source": [
    "ls"
   ]
  },
  {
   "cell_type": "code",
   "execution_count": 7,
   "metadata": {},
   "outputs": [
    {
     "data": {
      "text/html": [
       "<div>\n",
       "<style>\n",
       "    .dataframe thead tr:only-child th {\n",
       "        text-align: right;\n",
       "    }\n",
       "\n",
       "    .dataframe thead th {\n",
       "        text-align: left;\n",
       "    }\n",
       "\n",
       "    .dataframe tbody tr th {\n",
       "        vertical-align: top;\n",
       "    }\n",
       "</style>\n",
       "<table border=\"1\" class=\"dataframe\">\n",
       "  <thead>\n",
       "    <tr style=\"text-align: right;\">\n",
       "      <th></th>\n",
       "      <th>Company</th>\n",
       "      <th>Score 2013</th>\n",
       "      <th>Score 2014</th>\n",
       "      <th>Score 2015</th>\n",
       "      <th>Score 2016</th>\n",
       "      <th>Mag 2013</th>\n",
       "      <th>Mag 2014</th>\n",
       "      <th>Mag 2015</th>\n",
       "      <th>Mag 2016</th>\n",
       "    </tr>\n",
       "  </thead>\n",
       "  <tbody>\n",
       "    <tr>\n",
       "      <th>0</th>\n",
       "      <td>ABMD</td>\n",
       "      <td>0.0</td>\n",
       "      <td>0.1</td>\n",
       "      <td>0.0</td>\n",
       "      <td>0.0</td>\n",
       "      <td>0.0</td>\n",
       "      <td>97.099998</td>\n",
       "      <td>0.000000</td>\n",
       "      <td>0.000000</td>\n",
       "    </tr>\n",
       "    <tr>\n",
       "      <th>1</th>\n",
       "      <td>ABT</td>\n",
       "      <td>0.0</td>\n",
       "      <td>0.0</td>\n",
       "      <td>0.4</td>\n",
       "      <td>0.0</td>\n",
       "      <td>0.0</td>\n",
       "      <td>0.000000</td>\n",
       "      <td>43.500000</td>\n",
       "      <td>0.000000</td>\n",
       "    </tr>\n",
       "    <tr>\n",
       "      <th>2</th>\n",
       "      <td>ACN</td>\n",
       "      <td>0.0</td>\n",
       "      <td>0.2</td>\n",
       "      <td>0.0</td>\n",
       "      <td>0.2</td>\n",
       "      <td>0.0</td>\n",
       "      <td>123.199997</td>\n",
       "      <td>0.000000</td>\n",
       "      <td>124.300003</td>\n",
       "    </tr>\n",
       "    <tr>\n",
       "      <th>3</th>\n",
       "      <td>ADM</td>\n",
       "      <td>0.0</td>\n",
       "      <td>0.0</td>\n",
       "      <td>0.2</td>\n",
       "      <td>0.0</td>\n",
       "      <td>0.0</td>\n",
       "      <td>0.000000</td>\n",
       "      <td>0.400000</td>\n",
       "      <td>0.000000</td>\n",
       "    </tr>\n",
       "    <tr>\n",
       "      <th>4</th>\n",
       "      <td>AET</td>\n",
       "      <td>0.0</td>\n",
       "      <td>0.0</td>\n",
       "      <td>0.1</td>\n",
       "      <td>0.0</td>\n",
       "      <td>0.0</td>\n",
       "      <td>0.000000</td>\n",
       "      <td>83.800003</td>\n",
       "      <td>0.000000</td>\n",
       "    </tr>\n",
       "  </tbody>\n",
       "</table>\n",
       "</div>"
      ],
      "text/plain": [
       "  Company  Score 2013  Score 2014  Score 2015  Score 2016  Mag 2013  \\\n",
       "0    ABMD         0.0         0.1         0.0         0.0       0.0   \n",
       "1     ABT         0.0         0.0         0.4         0.0       0.0   \n",
       "2     ACN         0.0         0.2         0.0         0.2       0.0   \n",
       "3     ADM         0.0         0.0         0.2         0.0       0.0   \n",
       "4     AET         0.0         0.0         0.1         0.0       0.0   \n",
       "\n",
       "     Mag 2014   Mag 2015    Mag 2016  \n",
       "0   97.099998   0.000000    0.000000  \n",
       "1    0.000000  43.500000    0.000000  \n",
       "2  123.199997   0.000000  124.300003  \n",
       "3    0.000000   0.400000    0.000000  \n",
       "4    0.000000  83.800003    0.000000  "
      ]
     },
     "execution_count": 7,
     "metadata": {},
     "output_type": "execute_result"
    }
   ],
   "source": [
    "sentimentdf = pd.read_csv('sentiment_annual.csv', index_col= 0)\n",
    "sentimentdf.head(5)"
   ]
  },
  {
   "cell_type": "code",
   "execution_count": null,
   "metadata": {
    "collapsed": true
   },
   "outputs": [],
   "source": []
  }
 ],
 "metadata": {
  "kernelspec": {
   "display_name": "Python 2",
   "language": "python",
   "name": "python2"
  },
  "language_info": {
   "codemirror_mode": {
    "name": "ipython",
    "version": 2
   },
   "file_extension": ".py",
   "mimetype": "text/x-python",
   "name": "python",
   "nbconvert_exporter": "python",
   "pygments_lexer": "ipython2",
   "version": "2.7.14"
  }
 },
 "nbformat": 4,
 "nbformat_minor": 2
}
